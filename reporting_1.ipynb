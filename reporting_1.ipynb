{
 "cells": [
  {
   "cell_type": "code",
   "execution_count": 4,
   "id": "7528c6b5-8160-40f4-8424-6edd914180b1",
   "metadata": {},
   "outputs": [],
   "source": [
    "import pandas as pd\n",
    "# import pandahouse as ph\n",
    "import seaborn as sns\n",
    "\n",
    "\n",
    "# import telegram\n",
    "import io\n",
    "\n",
    "import matplotlib.pyplot as plt\n",
    "%matplotlib inline\n",
    "\n",
    "connection = {'host': '',\n",
    "                      'database':'',\n",
    "                      'user':'', \n",
    "                      'password':''\n",
    "                     }\n",
    "\n",
    "\n",
    "# bot = telegram.Bot(token = '')\n",
    "\n",
    "my_chat_id = 149956060\n",
    "my_bot_id = 5058001314\n",
    "reports_chat_id = -770113521\n",
    "# alerts_chat_id = -1001706798154"
   ]
  },
  {
   "cell_type": "code",
   "execution_count": 9,
   "id": "d78548ff-0fd0-4251-9c2f-ff3a8e75b3cd",
   "metadata": {},
   "outputs": [
    {
     "data": {
      "text/plain": [
       "datetime.date(2022, 8, 19)"
      ]
     },
     "execution_count": 9,
     "metadata": {},
     "output_type": "execute_result"
    }
   ],
   "source": [
    "pd.Timestamp('now').date()"
   ]
  },
  {
   "cell_type": "code",
   "execution_count": 13,
   "id": "9f7c0784-7876-48b1-8462-ce124b7b4fc5",
   "metadata": {},
   "outputs": [
    {
     "data": {
      "text/plain": [
       "'January'"
      ]
     },
     "execution_count": 13,
     "metadata": {},
     "output_type": "execute_result"
    }
   ],
   "source": [
    "pd.Timestamp(2017, 1,1).month_name()"
   ]
  },
  {
   "cell_type": "code",
   "execution_count": 16,
   "id": "43a64f9b-3a68-4539-b75b-a4c0db970ce8",
   "metadata": {},
   "outputs": [
    {
     "data": {
      "text/plain": [
       "Timestamp('2016-12-31 00:00:00')"
      ]
     },
     "execution_count": 16,
     "metadata": {},
     "output_type": "execute_result"
    }
   ],
   "source": [
    "pd.Timestamp(2017, 1,1) - pd.Timedelta(days=1)"
   ]
  },
  {
   "cell_type": "code",
   "execution_count": 17,
   "id": "a7f0fdd3-05a9-4af3-8669-eb5b0c690dd8",
   "metadata": {},
   "outputs": [
    {
     "data": {
      "text/plain": [
       "Timestamp('2016-12-31 00:00:00')"
      ]
     },
     "execution_count": 17,
     "metadata": {},
     "output_type": "execute_result"
    }
   ],
   "source": [
    "pd.Timestamp(2017, 1,1) - pd.DateOffset(days=1)"
   ]
  },
  {
   "cell_type": "code",
   "execution_count": 15,
   "id": "c170ebcb-0dbf-41db-bc8b-051330edd50a",
   "metadata": {},
   "outputs": [
    {
     "data": {
      "text/plain": [
       "datetime.datetime(2017, 1, 1, 0, 0)"
      ]
     },
     "execution_count": 15,
     "metadata": {},
     "output_type": "execute_result"
    }
   ],
   "source": [
    "pd.Timestamp(2017, 1,1).to_pydatetime()"
   ]
  },
  {
   "cell_type": "code",
   "execution_count": 25,
   "id": "b9e48a29-bd98-4fb1-b67d-0688e0d76583",
   "metadata": {},
   "outputs": [
    {
     "name": "stdout",
     "output_type": "stream",
     "text": [
      "{'update_id': 716842662, 'message': {'message_id': 7, 'new_chat_members': [], 'chat': {'type': 'private', 'id': 149956060, 'last_name': 'Kandybko', 'first_name': 'Daria', 'username': 'kandydaria'}, 'entities': [], 'date': 1660231272, 'group_chat_created': False, 'photo': [], 'caption_entities': [], 'text': 'fdrf', 'new_chat_photo': [], 'supergroup_chat_created': False, 'channel_chat_created': False, 'delete_chat_photo': False, 'from': {'first_name': 'Daria', 'language_code': 'ru', 'is_bot': False, 'id': 149956060, 'last_name': 'Kandybko', 'username': 'kandydaria'}}}\n"
     ]
    }
   ],
   "source": [
    "# Получить chat-id разными способами:\n",
    "\n",
    "updates = bot.getUpdates()\n",
    "print(updates[-1])\n",
    "\n",
    "\n"
   ]
  },
  {
   "cell_type": "code",
   "execution_count": null,
   "id": "c9846473-4655-4971-b1da-381e3bd88602",
   "metadata": {},
   "outputs": [],
   "source": []
  },
  {
   "cell_type": "code",
   "execution_count": 26,
   "id": "c8af196c-a840-4e34-8920-1e4e069fbc4b",
   "metadata": {},
   "outputs": [],
   "source": [
    "query = '''\n",
    "select toDate(time) as day, user_id, action\n",
    "from simulator_20220720.feed_actions\n",
    "where toDate(time) between  today() - 7 and today()-1;\n",
    "'''\n",
    "\n",
    "df = ph.read_clickhouse(query, connection=connection)"
   ]
  },
  {
   "cell_type": "code",
   "execution_count": 27,
   "id": "fa2dc6b0-5122-42a1-8ac7-736e43e855bf",
   "metadata": {},
   "outputs": [
    {
     "data": {
      "text/html": [
       "<div>\n",
       "<style scoped>\n",
       "    .dataframe tbody tr th:only-of-type {\n",
       "        vertical-align: middle;\n",
       "    }\n",
       "\n",
       "    .dataframe tbody tr th {\n",
       "        vertical-align: top;\n",
       "    }\n",
       "\n",
       "    .dataframe thead th {\n",
       "        text-align: right;\n",
       "    }\n",
       "</style>\n",
       "<table border=\"1\" class=\"dataframe\">\n",
       "  <thead>\n",
       "    <tr style=\"text-align: right;\">\n",
       "      <th></th>\n",
       "      <th>day</th>\n",
       "      <th>user_id</th>\n",
       "      <th>action</th>\n",
       "    </tr>\n",
       "  </thead>\n",
       "  <tbody>\n",
       "    <tr>\n",
       "      <th>0</th>\n",
       "      <td>2022-08-10</td>\n",
       "      <td>126581</td>\n",
       "      <td>view</td>\n",
       "    </tr>\n",
       "    <tr>\n",
       "      <th>1</th>\n",
       "      <td>2022-08-10</td>\n",
       "      <td>141796</td>\n",
       "      <td>view</td>\n",
       "    </tr>\n",
       "    <tr>\n",
       "      <th>2</th>\n",
       "      <td>2022-08-10</td>\n",
       "      <td>147578</td>\n",
       "      <td>view</td>\n",
       "    </tr>\n",
       "    <tr>\n",
       "      <th>3</th>\n",
       "      <td>2022-08-10</td>\n",
       "      <td>156973</td>\n",
       "      <td>like</td>\n",
       "    </tr>\n",
       "    <tr>\n",
       "      <th>4</th>\n",
       "      <td>2022-08-10</td>\n",
       "      <td>164863</td>\n",
       "      <td>view</td>\n",
       "    </tr>\n",
       "    <tr>\n",
       "      <th>...</th>\n",
       "      <td>...</td>\n",
       "      <td>...</td>\n",
       "      <td>...</td>\n",
       "    </tr>\n",
       "    <tr>\n",
       "      <th>5678766</th>\n",
       "      <td>2022-08-10</td>\n",
       "      <td>108633</td>\n",
       "      <td>view</td>\n",
       "    </tr>\n",
       "    <tr>\n",
       "      <th>5678767</th>\n",
       "      <td>2022-08-10</td>\n",
       "      <td>115307</td>\n",
       "      <td>view</td>\n",
       "    </tr>\n",
       "    <tr>\n",
       "      <th>5678768</th>\n",
       "      <td>2022-08-10</td>\n",
       "      <td>117768</td>\n",
       "      <td>view</td>\n",
       "    </tr>\n",
       "    <tr>\n",
       "      <th>5678769</th>\n",
       "      <td>2022-08-10</td>\n",
       "      <td>123018</td>\n",
       "      <td>like</td>\n",
       "    </tr>\n",
       "    <tr>\n",
       "      <th>5678770</th>\n",
       "      <td>2022-08-10</td>\n",
       "      <td>123284</td>\n",
       "      <td>like</td>\n",
       "    </tr>\n",
       "  </tbody>\n",
       "</table>\n",
       "<p>5678771 rows × 3 columns</p>\n",
       "</div>"
      ],
      "text/plain": [
       "               day  user_id action\n",
       "0       2022-08-10   126581   view\n",
       "1       2022-08-10   141796   view\n",
       "2       2022-08-10   147578   view\n",
       "3       2022-08-10   156973   like\n",
       "4       2022-08-10   164863   view\n",
       "...            ...      ...    ...\n",
       "5678766 2022-08-10   108633   view\n",
       "5678767 2022-08-10   115307   view\n",
       "5678768 2022-08-10   117768   view\n",
       "5678769 2022-08-10   123018   like\n",
       "5678770 2022-08-10   123284   like\n",
       "\n",
       "[5678771 rows x 3 columns]"
      ]
     },
     "execution_count": 27,
     "metadata": {},
     "output_type": "execute_result"
    }
   ],
   "source": [
    "df"
   ]
  },
  {
   "cell_type": "code",
   "execution_count": 28,
   "id": "238ae46d-f64c-48ee-bb43-4a6af1ad372a",
   "metadata": {},
   "outputs": [
    {
     "data": {
      "text/html": [
       "<div>\n",
       "<style scoped>\n",
       "    .dataframe tbody tr th:only-of-type {\n",
       "        vertical-align: middle;\n",
       "    }\n",
       "\n",
       "    .dataframe tbody tr th {\n",
       "        vertical-align: top;\n",
       "    }\n",
       "\n",
       "    .dataframe thead th {\n",
       "        text-align: right;\n",
       "    }\n",
       "</style>\n",
       "<table border=\"1\" class=\"dataframe\">\n",
       "  <thead>\n",
       "    <tr style=\"text-align: right;\">\n",
       "      <th></th>\n",
       "      <th>day</th>\n",
       "      <th>DAU</th>\n",
       "      <th>likes</th>\n",
       "      <th>views</th>\n",
       "      <th>CTR</th>\n",
       "    </tr>\n",
       "  </thead>\n",
       "  <tbody>\n",
       "    <tr>\n",
       "      <th>0</th>\n",
       "      <td>2022-08-04</td>\n",
       "      <td>19026</td>\n",
       "      <td>100781</td>\n",
       "      <td>513026</td>\n",
       "      <td>0.196444</td>\n",
       "    </tr>\n",
       "    <tr>\n",
       "      <th>1</th>\n",
       "      <td>2022-08-05</td>\n",
       "      <td>18760</td>\n",
       "      <td>131364</td>\n",
       "      <td>626809</td>\n",
       "      <td>0.209576</td>\n",
       "    </tr>\n",
       "    <tr>\n",
       "      <th>2</th>\n",
       "      <td>2022-08-06</td>\n",
       "      <td>18885</td>\n",
       "      <td>128146</td>\n",
       "      <td>604637</td>\n",
       "      <td>0.211939</td>\n",
       "    </tr>\n",
       "    <tr>\n",
       "      <th>3</th>\n",
       "      <td>2022-08-07</td>\n",
       "      <td>18708</td>\n",
       "      <td>156523</td>\n",
       "      <td>737226</td>\n",
       "      <td>0.212313</td>\n",
       "    </tr>\n",
       "    <tr>\n",
       "      <th>4</th>\n",
       "      <td>2022-08-08</td>\n",
       "      <td>18494</td>\n",
       "      <td>140421</td>\n",
       "      <td>687869</td>\n",
       "      <td>0.204139</td>\n",
       "    </tr>\n",
       "    <tr>\n",
       "      <th>5</th>\n",
       "      <td>2022-08-09</td>\n",
       "      <td>18984</td>\n",
       "      <td>164457</td>\n",
       "      <td>767819</td>\n",
       "      <td>0.214187</td>\n",
       "    </tr>\n",
       "    <tr>\n",
       "      <th>6</th>\n",
       "      <td>2022-08-10</td>\n",
       "      <td>18902</td>\n",
       "      <td>160496</td>\n",
       "      <td>759197</td>\n",
       "      <td>0.211402</td>\n",
       "    </tr>\n",
       "  </tbody>\n",
       "</table>\n",
       "</div>"
      ],
      "text/plain": [
       "         day    DAU   likes   views       CTR\n",
       "0 2022-08-04  19026  100781  513026  0.196444\n",
       "1 2022-08-05  18760  131364  626809  0.209576\n",
       "2 2022-08-06  18885  128146  604637  0.211939\n",
       "3 2022-08-07  18708  156523  737226  0.212313\n",
       "4 2022-08-08  18494  140421  687869  0.204139\n",
       "5 2022-08-09  18984  164457  767819  0.214187\n",
       "6 2022-08-10  18902  160496  759197  0.211402"
      ]
     },
     "execution_count": 28,
     "metadata": {},
     "output_type": "execute_result"
    }
   ],
   "source": [
    "data = pd.merge(df.groupby('day')['user_id'].nunique().reset_index(),\n",
    "         df.groupby(['day','action']).count().unstack().droplevel(level=0, axis=1).reset_index(),\n",
    "         how = 'inner', \n",
    "         on = 'day')\n",
    "\n",
    "data.columns = ['day','DAU','likes','views']\n",
    "data['CTR'] = data['likes'] / data['views']\n",
    "data"
   ]
  },
  {
   "cell_type": "code",
   "execution_count": 29,
   "id": "e0e37ed5-f7c3-4aaf-8738-fe8a6b231853",
   "metadata": {},
   "outputs": [],
   "source": [
    "report = f'''NEWSFEED \\nreport for {data.iloc[-1,:].day.strftime('%d-%m-%Y')}: \\n \n",
    "DAU: {data.iloc[-1,1]} \n",
    "Views: {data.iloc[-1,3]}  \n",
    "Likes: {data.iloc[-1,2]}  \n",
    "CTR: {data.iloc[-1,4].round(4)}  \\n\n",
    "'''"
   ]
  },
  {
   "cell_type": "code",
   "execution_count": 30,
   "id": "516dddd0-3f6a-48b6-88e0-21d8ccb758b2",
   "metadata": {},
   "outputs": [
    {
     "data": {
      "text/plain": [
       "'NEWSFEED \\nreport for 10-08-2022: \\n \\nDAU: 18902 \\nViews: 759197  \\nLikes: 160496  \\nCTR: 0.2114  \\n\\n'"
      ]
     },
     "execution_count": 30,
     "metadata": {},
     "output_type": "execute_result"
    }
   ],
   "source": [
    "report"
   ]
  },
  {
   "cell_type": "code",
   "execution_count": null,
   "id": "6ea6e87b-cffe-421c-8d22-498ef3aeb752",
   "metadata": {},
   "outputs": [],
   "source": []
  },
  {
   "cell_type": "code",
   "execution_count": 34,
   "id": "68fc5d4e-af9d-4cef-a2d3-1142e3d1b898",
   "metadata": {},
   "outputs": [
    {
     "name": "stderr",
     "output_type": "stream",
     "text": [
      "/tmp/ipykernel_110/3189779541.py:21: UserWarning: FixedFormatter should only be used together with FixedLocator\n",
      "  ax.set_xticklabels(list(data['day'].apply(lambda x: x.strftime('%d %b'))))\n"
     ]
    }
   ],
   "source": [
    "sns.set(font_scale=1,\n",
    "       style=\"whitegrid\",\n",
    "       rc={'figure.figsize':(10,13)})\n",
    "\n",
    "fig, axes = plt.subplots(nrows=4, ncols=1, sharex=True)\n",
    "\n",
    "\n",
    "sns.lineplot(x='day', y='DAU', data = data, ax = axes[0], color = 'lightpink', marker=\"^\")\n",
    "sns.lineplot(x='day', y='likes', data = data, ax = axes[1], color = 'purple', marker=\"^\")\n",
    "sns.lineplot(x='day', y='views', data = data, ax = axes[2], color = 'orchid', marker=\"^\")\n",
    "sns.lineplot(x='day', y='CTR', data = data, ax = axes[3], color = 'tomato', marker=\"^\")\n",
    "\n",
    "\n",
    "for name, ax in zip([i for i in data][1:], axes.flatten()):\n",
    "    ax.set_frame_on(False)\n",
    "    ax.grid(True, color='#e2e2e2', alpha=0.6)\n",
    "    ax.set(title = name, ylabel='')\n",
    "    \n",
    "ax.set_xlabel('\\n')\n",
    "\n",
    "ax.set_xticklabels(list(data['day'].apply(lambda x: x.strftime('%d %b'))))\n",
    "\n",
    "fig.suptitle('\\n\\nNEWSFEED METRICS', fontsize=14)\n",
    "\n",
    "plot_object = io.BytesIO()\n",
    "plt.savefig(plot_object)\n",
    "plot_object.name = 'newsfeed_metrics.png'\n",
    "plot_object.seek(0)\n",
    "\n",
    "plt.close()"
   ]
  },
  {
   "cell_type": "code",
   "execution_count": null,
   "id": "74d71a2a-fd79-4852-aace-9640c001f952",
   "metadata": {},
   "outputs": [],
   "source": []
  },
  {
   "cell_type": "code",
   "execution_count": 32,
   "id": "cb38b172-91ec-4dcb-9d65-ea2f0c4aaef6",
   "metadata": {},
   "outputs": [
    {
     "data": {
      "text/plain": [
       "<telegram.message.Message at 0x7f656034ba40>"
      ]
     },
     "execution_count": 32,
     "metadata": {},
     "output_type": "execute_result"
    }
   ],
   "source": [
    "# bot.sendMessage(chat_id = my_chat_id, text=report)\n",
    "# bot.sendPhoto(chat_id = my_chat_id, photo = plot_object)"
   ]
  },
  {
   "cell_type": "code",
   "execution_count": 35,
   "id": "802443de-9f80-490f-a517-321b0848c919",
   "metadata": {},
   "outputs": [
    {
     "data": {
      "text/plain": [
       "<telegram.message.Message at 0x7f6560041c40>"
      ]
     },
     "execution_count": 35,
     "metadata": {},
     "output_type": "execute_result"
    }
   ],
   "source": [
    "bot.sendMessage(chat_id = reports_chat_id, text=report)\n",
    "bot.sendPhoto(chat_id = reports_chat_id, photo = plot_object)"
   ]
  },
  {
   "cell_type": "code",
   "execution_count": null,
   "id": "3b504e5d-4806-4e06-a5d6-f56ca928553e",
   "metadata": {},
   "outputs": [],
   "source": []
  }
 ],
 "metadata": {
  "kernelspec": {
   "display_name": "Python 3 (ipykernel)",
   "language": "python",
   "name": "python3"
  },
  "language_info": {
   "codemirror_mode": {
    "name": "ipython",
    "version": 3
   },
   "file_extension": ".py",
   "mimetype": "text/x-python",
   "name": "python",
   "nbconvert_exporter": "python",
   "pygments_lexer": "ipython3",
   "version": "3.9.7"
  }
 },
 "nbformat": 4,
 "nbformat_minor": 5
}
