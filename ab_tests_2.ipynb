{
 "cells": [
  {
   "cell_type": "code",
   "execution_count": 28,
   "id": "aa91906a-258d-4718-afc3-56c517ad174a",
   "metadata": {},
   "outputs": [],
   "source": [
    "import pandas as pd\n",
    "import pandahouse as ph\n",
    "import seaborn as sns\n",
    "import numpy as np\n",
    "\n",
    "from scipy import stats\n",
    "from tqdm import tqdm\n",
    "\n",
    "import matplotlib.pyplot as plt\n",
    "%matplotlib inline\n",
    "\n",
    "connection = {'host': 'https://clickhouse.lab.karpov.courses',\n",
    "                      'database':'simulator_20220720',\n",
    "                      'user':'student', \n",
    "                      'password':'dpo_python_2020'\n",
    "                     }\n",
    "\n",
    "\n",
    "sns.set(rc={'figure.figsize':(12,10)},\n",
    "       style = 'whitegrid',\n",
    "       font_scale = 1.3)"
   ]
  },
  {
   "cell_type": "code",
   "execution_count": 2,
   "id": "dd8b8a1d-1f09-43c3-adc0-f210bbdaf405",
   "metadata": {},
   "outputs": [],
   "source": [
    "# сгружаем наши данные за нужный период:\n",
    "\n",
    "q = \"\"\"\n",
    "SELECT exp_group, \n",
    "    user_id,\n",
    "    sum(action = 'like') as likes,\n",
    "    sum(action = 'view') as views,\n",
    "    likes/views as ctr\n",
    "FROM {db}.feed_actions \n",
    "WHERE toDate(time) between '2022-06-13' and '2022-06-19'\n",
    "    and exp_group in (2,1)\n",
    "GROUP BY exp_group, user_id\n",
    "\"\"\""
   ]
  },
  {
   "cell_type": "code",
   "execution_count": 3,
   "id": "b25e87ff-e187-4d9d-ad1e-45d7483d9356",
   "metadata": {},
   "outputs": [],
   "source": [
    "df = ph.read_clickhouse(q, connection=connection)"
   ]
  },
  {
   "cell_type": "code",
   "execution_count": 4,
   "id": "8cf45bcd-4cb7-4b08-9ba7-6c4e57fa3a7f",
   "metadata": {},
   "outputs": [
    {
     "data": {
      "text/html": [
       "<div>\n",
       "<style scoped>\n",
       "    .dataframe tbody tr th:only-of-type {\n",
       "        vertical-align: middle;\n",
       "    }\n",
       "\n",
       "    .dataframe tbody tr th {\n",
       "        vertical-align: top;\n",
       "    }\n",
       "\n",
       "    .dataframe thead th {\n",
       "        text-align: right;\n",
       "    }\n",
       "</style>\n",
       "<table border=\"1\" class=\"dataframe\">\n",
       "  <thead>\n",
       "    <tr style=\"text-align: right;\">\n",
       "      <th></th>\n",
       "      <th>exp_group</th>\n",
       "      <th>user_id</th>\n",
       "      <th>likes</th>\n",
       "      <th>views</th>\n",
       "      <th>ctr</th>\n",
       "    </tr>\n",
       "  </thead>\n",
       "  <tbody>\n",
       "    <tr>\n",
       "      <th>0</th>\n",
       "      <td>1</td>\n",
       "      <td>109963</td>\n",
       "      <td>3</td>\n",
       "      <td>15</td>\n",
       "      <td>0.200000</td>\n",
       "    </tr>\n",
       "    <tr>\n",
       "      <th>1</th>\n",
       "      <td>1</td>\n",
       "      <td>26117</td>\n",
       "      <td>32</td>\n",
       "      <td>141</td>\n",
       "      <td>0.226950</td>\n",
       "    </tr>\n",
       "    <tr>\n",
       "      <th>2</th>\n",
       "      <td>1</td>\n",
       "      <td>138232</td>\n",
       "      <td>18</td>\n",
       "      <td>73</td>\n",
       "      <td>0.246575</td>\n",
       "    </tr>\n",
       "    <tr>\n",
       "      <th>3</th>\n",
       "      <td>1</td>\n",
       "      <td>26295</td>\n",
       "      <td>33</td>\n",
       "      <td>122</td>\n",
       "      <td>0.270492</td>\n",
       "    </tr>\n",
       "    <tr>\n",
       "      <th>4</th>\n",
       "      <td>1</td>\n",
       "      <td>18392</td>\n",
       "      <td>7</td>\n",
       "      <td>32</td>\n",
       "      <td>0.218750</td>\n",
       "    </tr>\n",
       "    <tr>\n",
       "      <th>...</th>\n",
       "      <td>...</td>\n",
       "      <td>...</td>\n",
       "      <td>...</td>\n",
       "      <td>...</td>\n",
       "      <td>...</td>\n",
       "    </tr>\n",
       "    <tr>\n",
       "      <th>20026</th>\n",
       "      <td>1</td>\n",
       "      <td>132567</td>\n",
       "      <td>45</td>\n",
       "      <td>296</td>\n",
       "      <td>0.152027</td>\n",
       "    </tr>\n",
       "    <tr>\n",
       "      <th>20027</th>\n",
       "      <td>1</td>\n",
       "      <td>30872</td>\n",
       "      <td>11</td>\n",
       "      <td>59</td>\n",
       "      <td>0.186441</td>\n",
       "    </tr>\n",
       "    <tr>\n",
       "      <th>20028</th>\n",
       "      <td>2</td>\n",
       "      <td>25383</td>\n",
       "      <td>42</td>\n",
       "      <td>127</td>\n",
       "      <td>0.330709</td>\n",
       "    </tr>\n",
       "    <tr>\n",
       "      <th>20029</th>\n",
       "      <td>2</td>\n",
       "      <td>139020</td>\n",
       "      <td>24</td>\n",
       "      <td>114</td>\n",
       "      <td>0.210526</td>\n",
       "    </tr>\n",
       "    <tr>\n",
       "      <th>20030</th>\n",
       "      <td>2</td>\n",
       "      <td>17310</td>\n",
       "      <td>9</td>\n",
       "      <td>82</td>\n",
       "      <td>0.109756</td>\n",
       "    </tr>\n",
       "  </tbody>\n",
       "</table>\n",
       "<p>20031 rows × 5 columns</p>\n",
       "</div>"
      ],
      "text/plain": [
       "       exp_group  user_id  likes  views       ctr\n",
       "0              1   109963      3     15  0.200000\n",
       "1              1    26117     32    141  0.226950\n",
       "2              1   138232     18     73  0.246575\n",
       "3              1    26295     33    122  0.270492\n",
       "4              1    18392      7     32  0.218750\n",
       "...          ...      ...    ...    ...       ...\n",
       "20026          1   132567     45    296  0.152027\n",
       "20027          1    30872     11     59  0.186441\n",
       "20028          2    25383     42    127  0.330709\n",
       "20029          2   139020     24    114  0.210526\n",
       "20030          2    17310      9     82  0.109756\n",
       "\n",
       "[20031 rows x 5 columns]"
      ]
     },
     "execution_count": 4,
     "metadata": {},
     "output_type": "execute_result"
    }
   ],
   "source": [
    "df"
   ]
  },
  {
   "cell_type": "code",
   "execution_count": 5,
   "id": "5c7ed967-a5c9-4104-abff-476a618624b1",
   "metadata": {},
   "outputs": [
    {
     "data": {
      "text/plain": [
       "1    10079\n",
       "2     9952\n",
       "Name: exp_group, dtype: int64"
      ]
     },
     "execution_count": 5,
     "metadata": {},
     "output_type": "execute_result"
    }
   ],
   "source": [
    "# кол-во юзеров в группах ~ одинаково:\n",
    "\n",
    "df.exp_group.value_counts()"
   ]
  },
  {
   "cell_type": "code",
   "execution_count": 6,
   "id": "1a50fcf2-8c35-4145-92d0-0451654e5d45",
   "metadata": {},
   "outputs": [
    {
     "data": {
      "text/plain": [
       "exp_group\n",
       "1    0.215605\n",
       "2    0.214419\n",
       "Name: ctr, dtype: float64"
      ]
     },
     "execution_count": 6,
     "metadata": {},
     "output_type": "execute_result"
    }
   ],
   "source": [
    "# ctr в обеих группах ~ одинаков:\n",
    "    \n",
    "df.groupby('exp_group').ctr.mean()"
   ]
  },
  {
   "cell_type": "code",
   "execution_count": 8,
   "id": "99a8ed72-c444-4b57-94f2-f76c1ee93598",
   "metadata": {},
   "outputs": [
    {
     "data": {
      "text/plain": [
       "<AxesSubplot:xlabel='ctr', ylabel='Count'>"
      ]
     },
     "execution_count": 8,
     "metadata": {},
     "output_type": "execute_result"
    },
    {
     "data": {
      "image/png": "[encoded data removed]",
      "text/plain": [
       "<Figure size 864x720 with 1 Axes>"
      ]
     },
     "metadata": {},
     "output_type": "display_data"
    }
   ],
   "source": [
    "# строим распределения ctr для двух групп, видим, что они не одинаковы, в контрольной группе 1 распределение больше похоже на нормальное,\n",
    "# в тестовой группе 2 распределение бимодальное:\n",
    "\n",
    "sns.histplot(data = df,\n",
    "            x = 'ctr',\n",
    "            hue = 'exp_group',\n",
    "            palette = ['violet','g'],\n",
    "            kde = False,\n",
    "            alpha = 0.5)"
   ]
  },
  {
   "cell_type": "code",
   "execution_count": 13,
   "id": "c48e35f0-52f2-41bd-9241-9da37ffe887b",
   "metadata": {},
   "outputs": [
    {
     "data": {
      "text/plain": [
       "<AxesSubplot:xlabel='exp_group', ylabel='ctr'>"
      ]
     },
     "execution_count": 13,
     "metadata": {},
     "output_type": "execute_result"
    },
    {
     "data": {
      "image/png": "[encoded data removed]",
      "text/plain": [
       "<Figure size 864x720 with 1 Axes>"
      ]
     },
     "metadata": {},
     "output_type": "display_data"
    }
   ],
   "source": [
    "sns.boxplot(x=\"exp_group\", y=\"ctr\", data=df)"
   ]
  },
  {
   "cell_type": "code",
   "execution_count": null,
   "id": "8900d809-e29b-4452-b159-869e4df746d5",
   "metadata": {},
   "outputs": [],
   "source": [
    "# Для обеих групп проведем Шапиро-Уилк тест для определения нормальности распределений (проведем сэмплирование, т.к.\n",
    "# на больших выборках тест может показать неверный результат):"
   ]
  },
  {
   "cell_type": "code",
   "execution_count": 11,
   "id": "561118c6-e7b8-4c5e-be73-ab0e5cb11397",
   "metadata": {},
   "outputs": [
    {
     "data": {
      "text/plain": [
       "ShapiroResult(statistic=0.9535661935806274, pvalue=3.0551856367641973e-17)"
      ]
     },
     "execution_count": 11,
     "metadata": {},
     "output_type": "execute_result"
    }
   ],
   "source": [
    "stats.shapiro(df[df.exp_group == 1].ctr.sample(1000, random_state=17))"
   ]
  },
  {
   "cell_type": "code",
   "execution_count": 12,
   "id": "ff106d4a-5023-46ad-8f46-49bc8b4abf48",
   "metadata": {},
   "outputs": [
    {
     "data": {
      "text/plain": [
       "ShapiroResult(statistic=0.8981765508651733, pvalue=3.255634625784872e-25)"
      ]
     },
     "execution_count": 12,
     "metadata": {},
     "output_type": "execute_result"
    }
   ],
   "source": [
    "stats.shapiro(df[df.exp_group == 2].ctr.sample(1000, random_state=17))"
   ]
  },
  {
   "cell_type": "markdown",
   "id": "201889e9-f55e-4917-ad73-35f2616262b5",
   "metadata": {},
   "source": [
    "В обеих группах тест на нормальность показывает, что распределения не нормальны (p-value < 0.05), но т.к. кол-во наблюдений большое, то t-тест может быть использован."
   ]
  },
  {
   "cell_type": "code",
   "execution_count": 9,
   "id": "668a6260-7f46-4d9d-9dba-86ba3ce4df67",
   "metadata": {},
   "outputs": [
    {
     "data": {
      "text/plain": [
       "Ttest_indResult(statistic=0.7094392041270486, pvalue=0.4780623130874935)"
      ]
     },
     "execution_count": 9,
     "metadata": {},
     "output_type": "execute_result"
    }
   ],
   "source": [
    "# проводим t-тест:\n",
    "\n",
    "stats.ttest_ind(df[df.exp_group == 1].ctr,\n",
    "                df[df.exp_group == 2].ctr,\n",
    "                equal_var=False)"
   ]
  },
  {
   "cell_type": "markdown",
   "id": "63066006-073d-4ea9-88d8-490ba19c4dc3",
   "metadata": {},
   "source": [
    "По результатам t-test'а имеем p_value > 0.05, вероятность получить такие или более сильные различия в ctr \n",
    "при условии, что H0 верна - 47,8%, а значит, у нас нет оснований отклонить H0 о равенстве средних - не имеем статистически значимого результата."
   ]
  },
  {
   "cell_type": "code",
   "execution_count": 10,
   "id": "12934ce3-4f3d-4684-b631-2f8c8a243b39",
   "metadata": {},
   "outputs": [
    {
     "data": {
      "text/plain": [
       "LeveneResult(statistic=2423.1112173147503, pvalue=0.0)"
      ]
     },
     "execution_count": 10,
     "metadata": {},
     "output_type": "execute_result"
    }
   ],
   "source": [
    "# Еще одним требованием для проведения t-теста является требования гомогенности дисперсий - дисперсии наших групп должны быть примерно одинаковы.\n",
    "# Для проверки используем тест Левена:\n",
    "\n",
    "stats.levene(df[df.exp_group == 1].ctr,\n",
    "                df[df.exp_group == 2].ctr)\n",
    "\n",
    "# Получаем pvalue=0.0, а значит требование о гомогенности дисперсий не соблюдается. Можно ли верить результату одного t-теста в данном случае? (─‿‿─)"
   ]
  },
  {
   "cell_type": "code",
   "execution_count": 14,
   "id": "e45ee896-7667-44a0-91bd-5d524f63ceb2",
   "metadata": {},
   "outputs": [
    {
     "data": {
      "text/plain": [
       "MannwhitneyuResult(statistic=56601260.5, pvalue=6.0376484617779035e-56)"
      ]
     },
     "execution_count": 14,
     "metadata": {},
     "output_type": "execute_result"
    }
   ],
   "source": [
    "# Проведем тест Манна-Уитни:\n",
    "\n",
    "stats.mannwhitneyu(df[df.exp_group == 1].ctr,\n",
    "                df[df.exp_group == 2].ctr)"
   ]
  },
  {
   "cell_type": "markdown",
   "id": "4f8cc385-8f4b-4a9b-b533-47b63b7f7f26",
   "metadata": {},
   "source": [
    "p_value < 0.05, вероятность получить такие или более сильные различия в ctr при условии, что H0 верна <5%, а значит, у нас есть основания отклонить H0 о равенстве средних - имеем статистически значимый результат."
   ]
  },
  {
   "cell_type": "code",
   "execution_count": 16,
   "id": "2c3cc15d-8358-4107-a7f5-d599ff3f293a",
   "metadata": {},
   "outputs": [],
   "source": [
    "# Проведем t-тест на сглаженном ctr:\n",
    "\n",
    "\n",
    "# Функция сглаживания:\n",
    "\n",
    "def get_smoothed_ctr(user_likes, user_views, global_ctr, alpha):\n",
    "    smoothed_ctr = (user_likes + alpha*global_ctr) / (user_views + alpha*global_ctr)\n",
    "    return smoothed_ctr"
   ]
  },
  {
   "cell_type": "code",
   "execution_count": 17,
   "id": "69158996-9a79-4158-8aaa-a6ac7715a6ef",
   "metadata": {},
   "outputs": [],
   "source": [
    "global_ctr1 = df[df['exp_group'] == 1].likes.sum() / df[df['exp_group']== 1].views.sum()\n",
    "global_ctr2 = df[df['exp_group'] == 2].likes.sum() / df[df['exp_group']== 2].views.sum()"
   ]
  },
  {
   "cell_type": "code",
   "execution_count": 19,
   "id": "ba78fb4b-ac72-488d-96de-47273c5627ba",
   "metadata": {},
   "outputs": [],
   "source": [
    "group1 = df[df.exp_group == 1].copy()\n",
    "\n",
    "group1['smothed_ctr'] = df.apply(\n",
    "    lambda x: get_smoothed_ctr(x['likes'], x['views'], global_ctr1, alpha = 5), axis=1)\n",
    "\n",
    "group2 = df[df.exp_group == 2].copy()\n",
    "group2['smothed_ctr'] = df.apply(\n",
    "    lambda x: get_smoothed_ctr(x['likes'], x['views'], global_ctr2, alpha = 5), axis=1)\n"
   ]
  },
  {
   "cell_type": "code",
   "execution_count": 24,
   "id": "7e5f6b80-f0f4-4925-8593-cad0713e9714",
   "metadata": {},
   "outputs": [
    {
     "data": {
      "text/plain": [
       "<AxesSubplot:xlabel='ctr'>"
      ]
     },
     "execution_count": 24,
     "metadata": {},
     "output_type": "execute_result"
    },
    {
     "data": {
      "image/png": "[encoded data removed]",
      "text/plain": [
       "<Figure size 864x720 with 1 Axes>"
      ]
     },
     "metadata": {},
     "output_type": "display_data"
    }
   ],
   "source": [
    "# Построим распределения для 1 группы - исходное и сглаженное:\n",
    "\n",
    "sns.distplot(group1.smothed_ctr, \n",
    "             kde = False,\n",
    "             color = 'b')\n",
    "\n",
    "sns.distplot(df[df.exp_group ==1].ctr,\n",
    "             kde = False,\n",
    "             color = 'r')\n"
   ]
  },
  {
   "cell_type": "code",
   "execution_count": 25,
   "id": "d8992d9e-560b-484f-8f1a-a64f02b1510d",
   "metadata": {},
   "outputs": [
    {
     "data": {
      "text/plain": [
       "<AxesSubplot:xlabel='ctr'>"
      ]
     },
     "execution_count": 25,
     "metadata": {},
     "output_type": "execute_result"
    },
    {
     "data": {
      "image/png": "[encoded data removed]",
      "text/plain": [
       "<Figure size 864x720 with 1 Axes>"
      ]
     },
     "metadata": {},
     "output_type": "display_data"
    }
   ],
   "source": [
    "# Построим распределения для 2 группы - исходное и сглаженное:\n",
    "\n",
    "sns.distplot(group2.smothed_ctr, \n",
    "             kde = False,\n",
    "             color = 'b')\n",
    "\n",
    "sns.distplot(df[df.exp_group == 2].ctr,\n",
    "             kde = False,\n",
    "             color = 'r')\n"
   ]
  },
  {
   "cell_type": "code",
   "execution_count": 26,
   "id": "921386bb-7b4b-4c6f-ae6f-2cb21e957957",
   "metadata": {},
   "outputs": [
    {
     "data": {
      "text/plain": [
       "Ttest_indResult(statistic=1.233208024529151, pvalue=0.21751618626824193)"
      ]
     },
     "execution_count": 26,
     "metadata": {},
     "output_type": "execute_result"
    }
   ],
   "source": [
    "# Проводим t-тест на сглаженном ctr:\n",
    "\n",
    "stats.ttest_ind(group1.smothed_ctr,\n",
    "                group2.smothed_ctr,\n",
    "                equal_var=False)"
   ]
  },
  {
   "cell_type": "markdown",
   "id": "6e6294f6-1032-4e5c-bc09-e5244ef47162",
   "metadata": {},
   "source": [
    "По результатам t-test'а имеем p_value > 0.05, вероятность получить такие или более сильные различия в ctr при условии, что H0 верна - 21,7%, а значит, у нас нет оснований отклонить H0 о равенстве средних - не имеем статистически значимого результата."
   ]
  },
  {
   "cell_type": "code",
   "execution_count": 31,
   "id": "c63ae61d-9b83-4e91-8bb7-85a8286d2a51",
   "metadata": {},
   "outputs": [
    {
     "data": {
      "text/plain": [
       "<AxesSubplot:ylabel='Count'>"
      ]
     },
     "execution_count": 31,
     "metadata": {},
     "output_type": "execute_result"
    },
    {
     "data": {
      "image/png": "[encoded data removed]",
      "text/plain": [
       "<Figure size 864x720 with 1 Axes>"
      ]
     },
     "metadata": {},
     "output_type": "display_data"
    }
   ],
   "source": [
    "# Проведем Пуассоновский бутстрап для подсчета разнпицы в ctr:\n",
    "\n",
    "def bootstrap(likes1, views1, likes2, views2, n_bootstrap=2000):\n",
    "    poisson_bs1 = stats.poisson(1).rvs((n_bootstrap, len(likes1))).astype(np.int64)\n",
    "    \n",
    "    poisson_bs2 = stats.poisson(1).rvs((n_bootstrap, len(likes2))).astype(np.int64)\n",
    "    \n",
    "    globalCTR1 = (poisson_bs1*likes1).sum(axis=1)/(poisson_bs1*views1).sum(axis=1)\n",
    "    globalCTR2 = (poisson_bs2*likes2).sum(axis=1)/(poisson_bs2*views2).sum(axis=1)\n",
    "    \n",
    "    return globalCTR1, globalCTR2\n",
    "\n",
    "\n",
    "likes1 = df[df.exp_group == 1].likes.to_numpy()\n",
    "views1 = df[df.exp_group == 1].views.to_numpy()\n",
    "likes2 = df[df.exp_group == 2].likes.to_numpy()\n",
    "views2 = df[df.exp_group == 2].views.to_numpy()\n",
    "\n",
    "\n",
    "ctr1, ctr2  = bootstrap(likes1, views1, likes2, views2)\n",
    "\n",
    "sns.histplot(ctr1, color ='b')\n",
    "sns.histplot(ctr2, color = 'r')\n"
   ]
  },
  {
   "cell_type": "code",
   "execution_count": 32,
   "id": "8a2ffbfc-7654-4bc0-9ebb-413b154cb3ea",
   "metadata": {},
   "outputs": [
    {
     "data": {
      "text/plain": [
       "<AxesSubplot:ylabel='Count'>"
      ]
     },
     "execution_count": 32,
     "metadata": {},
     "output_type": "execute_result"
    },
    {
     "data": {
      "image/png": "[encoded data removed]",
      "text/plain": [
       "<Figure size 864x720 with 1 Axes>"
      ]
     },
     "metadata": {},
     "output_type": "display_data"
    }
   ],
   "source": [
    "sns.histplot(ctr2-ctr1)"
   ]
  },
  {
   "cell_type": "markdown",
   "id": "33190ebb-3b17-4834-ad3d-748c2cf74f33",
   "metadata": {},
   "source": [
    "По графикам видим, что распределения двух групп даже не перекрываются, в контрольной группе 1 ctr больше, чем в тестовой группе 2."
   ]
  },
  {
   "cell_type": "code",
   "execution_count": 35,
   "id": "af13e52e-963a-4f0b-93aa-1a6c28c07f4d",
   "metadata": {},
   "outputs": [],
   "source": [
    "# Применяем t-test и тест Манни- Уитни поверх бакетного преобразования :\n",
    "\n",
    "q1 = \"\"\"\n",
    "\n",
    "SELECT exp_group, bucket,\n",
    "    sum(likes)/sum(views) as bucket_ctr,\n",
    "    quantileExact(0.9)(ctr) as ctr9\n",
    "FROM (SELECT exp_group, \n",
    "        xxHash64(user_id)%50 as bucket,\n",
    "        user_id,\n",
    "        sum(action = 'like') as likes,\n",
    "        sum(action = 'view') as views,\n",
    "        likes/views as ctr\n",
    "    FROM simulator_20220720.feed_actions\n",
    "    WHERE toDate(time) between '2022-06-13' and '2022-06-19'\n",
    "        and exp_group in (1,2)\n",
    "    GROUP BY exp_group, bucket, user_id)\n",
    "GROUP BY exp_group, bucket\n",
    "\"\"\"\n",
    "\n",
    "df1 = ph.read_clickhouse(q1, connection=connection)\n"
   ]
  },
  {
   "cell_type": "code",
   "execution_count": 36,
   "id": "ebdb75ff-58a1-471b-a352-684aac76d357",
   "metadata": {},
   "outputs": [
    {
     "data": {
      "text/html": [
       "<div>\n",
       "<style scoped>\n",
       "    .dataframe tbody tr th:only-of-type {\n",
       "        vertical-align: middle;\n",
       "    }\n",
       "\n",
       "    .dataframe tbody tr th {\n",
       "        vertical-align: top;\n",
       "    }\n",
       "\n",
       "    .dataframe thead th {\n",
       "        text-align: right;\n",
       "    }\n",
       "</style>\n",
       "<table border=\"1\" class=\"dataframe\">\n",
       "  <thead>\n",
       "    <tr style=\"text-align: right;\">\n",
       "      <th></th>\n",
       "      <th>exp_group</th>\n",
       "      <th>bucket</th>\n",
       "      <th>bucket_ctr</th>\n",
       "      <th>ctr9</th>\n",
       "    </tr>\n",
       "  </thead>\n",
       "  <tbody>\n",
       "    <tr>\n",
       "      <th>0</th>\n",
       "      <td>1</td>\n",
       "      <td>0</td>\n",
       "      <td>0.196481</td>\n",
       "      <td>0.307692</td>\n",
       "    </tr>\n",
       "    <tr>\n",
       "      <th>1</th>\n",
       "      <td>2</td>\n",
       "      <td>0</td>\n",
       "      <td>0.194262</td>\n",
       "      <td>0.384615</td>\n",
       "    </tr>\n",
       "    <tr>\n",
       "      <th>2</th>\n",
       "      <td>1</td>\n",
       "      <td>1</td>\n",
       "      <td>0.211887</td>\n",
       "      <td>0.318182</td>\n",
       "    </tr>\n",
       "    <tr>\n",
       "      <th>3</th>\n",
       "      <td>2</td>\n",
       "      <td>1</td>\n",
       "      <td>0.215328</td>\n",
       "      <td>0.467742</td>\n",
       "    </tr>\n",
       "    <tr>\n",
       "      <th>4</th>\n",
       "      <td>1</td>\n",
       "      <td>2</td>\n",
       "      <td>0.206271</td>\n",
       "      <td>0.322314</td>\n",
       "    </tr>\n",
       "    <tr>\n",
       "      <th>...</th>\n",
       "      <td>...</td>\n",
       "      <td>...</td>\n",
       "      <td>...</td>\n",
       "      <td>...</td>\n",
       "    </tr>\n",
       "    <tr>\n",
       "      <th>95</th>\n",
       "      <td>2</td>\n",
       "      <td>47</td>\n",
       "      <td>0.195880</td>\n",
       "      <td>0.426230</td>\n",
       "    </tr>\n",
       "    <tr>\n",
       "      <th>96</th>\n",
       "      <td>1</td>\n",
       "      <td>48</td>\n",
       "      <td>0.212787</td>\n",
       "      <td>0.318182</td>\n",
       "    </tr>\n",
       "    <tr>\n",
       "      <th>97</th>\n",
       "      <td>2</td>\n",
       "      <td>48</td>\n",
       "      <td>0.194502</td>\n",
       "      <td>0.409091</td>\n",
       "    </tr>\n",
       "    <tr>\n",
       "      <th>98</th>\n",
       "      <td>1</td>\n",
       "      <td>49</td>\n",
       "      <td>0.203169</td>\n",
       "      <td>0.325581</td>\n",
       "    </tr>\n",
       "    <tr>\n",
       "      <th>99</th>\n",
       "      <td>2</td>\n",
       "      <td>49</td>\n",
       "      <td>0.196539</td>\n",
       "      <td>0.382979</td>\n",
       "    </tr>\n",
       "  </tbody>\n",
       "</table>\n",
       "<p>100 rows × 4 columns</p>\n",
       "</div>"
      ],
      "text/plain": [
       "    exp_group  bucket  bucket_ctr      ctr9\n",
       "0           1       0    0.196481  0.307692\n",
       "1           2       0    0.194262  0.384615\n",
       "2           1       1    0.211887  0.318182\n",
       "3           2       1    0.215328  0.467742\n",
       "4           1       2    0.206271  0.322314\n",
       "..        ...     ...         ...       ...\n",
       "95          2      47    0.195880  0.426230\n",
       "96          1      48    0.212787  0.318182\n",
       "97          2      48    0.194502  0.409091\n",
       "98          1      49    0.203169  0.325581\n",
       "99          2      49    0.196539  0.382979\n",
       "\n",
       "[100 rows x 4 columns]"
      ]
     },
     "execution_count": 36,
     "metadata": {},
     "output_type": "execute_result"
    }
   ],
   "source": [
    "df1"
   ]
  },
  {
   "cell_type": "code",
   "execution_count": 37,
   "id": "2edc2a52-c24b-48dd-b3e9-7af50ccf5268",
   "metadata": {},
   "outputs": [
    {
     "data": {
      "text/plain": [
       "<AxesSubplot:xlabel='bucket_ctr', ylabel='Count'>"
      ]
     },
     "execution_count": 37,
     "metadata": {},
     "output_type": "execute_result"
    },
    {
     "data": {
      "image/png": "[encoded data removed]",
      "text/plain": [
       "<Figure size 864x720 with 1 Axes>"
      ]
     },
     "metadata": {},
     "output_type": "display_data"
    }
   ],
   "source": [
    "sns.histplot(data = df1,\n",
    "            x = 'bucket_ctr',\n",
    "            hue = 'exp_group',\n",
    "            palette = ['violet','g'],\n",
    "            kde = False,\n",
    "            alpha = 0.5)"
   ]
  },
  {
   "cell_type": "code",
   "execution_count": 39,
   "id": "8b8dc75a-98cf-4c64-9190-802806820ff9",
   "metadata": {},
   "outputs": [
    {
     "data": {
      "text/plain": [
       "MannwhitneyuResult(statistic=1995.0, pvalue=2.859963936492646e-07)"
      ]
     },
     "execution_count": 39,
     "metadata": {},
     "output_type": "execute_result"
    }
   ],
   "source": [
    "# Проведем тест Манна-Уитни:\n",
    "\n",
    "stats.mannwhitneyu(df1[df1.exp_group == 1].bucket_ctr,\n",
    "                df1[df1.exp_group == 2].bucket_ctr)"
   ]
  },
  {
   "cell_type": "code",
   "execution_count": 40,
   "id": "fd00d762-c5b0-407c-b653-26ffb78aa4b7",
   "metadata": {},
   "outputs": [
    {
     "data": {
      "text/plain": [
       "Ttest_indResult(statistic=5.668234732053979, pvalue=1.4532650505355013e-07)"
      ]
     },
     "execution_count": 40,
     "metadata": {},
     "output_type": "execute_result"
    }
   ],
   "source": [
    "# и t-тест:\n",
    "\n",
    "stats.ttest_ind(df1[df1.exp_group == 1].bucket_ctr,\n",
    "                df1[df1.exp_group == 2].bucket_ctr)"
   ]
  },
  {
   "cell_type": "markdown",
   "id": "0091c624-191b-4e3b-8814-902fa39b8434",
   "metadata": {},
   "source": [
    "В обоих тестах p_value < 0.05, вероятность получить такие или более сильные различия в ctr при условии, что H0 верна <5%, а значит, у нас есть основания отклонить H0 о равенстве средних - имеем статистически значимый результат.\n"
   ]
  },
  {
   "cell_type": "markdown",
   "id": "86bf5b38-2058-4585-b8ac-9a41afcf7328",
   "metadata": {},
   "source": [
    "Считаю, что т.к. исходное распределение ctr в тестовой группе 2 бимодальное, стоит больше доверять таким методам, как бутстрап, который показал нам, что в тестовой группе 2 ctr снизился - изменения лучше не выкатывать. Также считаю, что полезно было бы понять, почему наши пользователи разделились на две группы (два горба в бимодальном распределении)"
   ]
  },
  {
   "cell_type": "code",
   "execution_count": null,
   "id": "f99274ae-4973-466f-9bb6-d2d0a8730f8a",
   "metadata": {},
   "outputs": [],
   "source": []
  }
 ],
 "metadata": {
  "kernelspec": {
   "display_name": "Python 3 (ipykernel)",
   "language": "python",
   "name": "python3"
  },
  "language_info": {
   "codemirror_mode": {
    "name": "ipython",
    "version": 3
   },
   "file_extension": ".py",
   "mimetype": "text/x-python",
   "name": "python",
   "nbconvert_exporter": "python",
   "pygments_lexer": "ipython3",
   "version": "3.9.7"
  }
 },
 "nbformat": 4,
 "nbformat_minor": 5
}
